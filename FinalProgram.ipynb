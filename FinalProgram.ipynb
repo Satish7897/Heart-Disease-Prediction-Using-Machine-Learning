{
 "cells": [
  {
   "cell_type": "code",
   "execution_count": 1,
   "id": "5da1aa80",
   "metadata": {},
   "outputs": [
    {
     "name": "stdout",
     "output_type": "stream",
     "text": [
      "successful import ;)\n"
     ]
    }
   ],
   "source": [
    "# Basic\n",
    "import numpy as np\n",
    "import pandas as pd\n",
    "import matplotlib.pyplot as plt\n",
    "print(\"successful import ;)\")"
   ]
  },
  {
   "cell_type": "code",
   "execution_count": 2,
   "id": "857a632d",
   "metadata": {},
   "outputs": [
    {
     "name": "stdout",
     "output_type": "stream",
     "text": [
      "success\n"
     ]
    }
   ],
   "source": [
    "from matplotlib import rcParams\n",
    "from matplotlib.cm import rainbow\n",
    "print(\"success\")"
   ]
  },
  {
   "cell_type": "code",
   "execution_count": 3,
   "id": "a2c11653",
   "metadata": {},
   "outputs": [
    {
     "name": "stdout",
     "output_type": "stream",
     "text": [
      "success\n"
     ]
    }
   ],
   "source": [
    "%matplotlib inline\n",
    "import warnings\n",
    "warnings.filterwarnings('ignore')\n",
    "print(\"success\")"
   ]
  },
  {
   "cell_type": "code",
   "execution_count": 4,
   "id": "ad9086f4",
   "metadata": {},
   "outputs": [
    {
     "name": "stdout",
     "output_type": "stream",
     "text": [
      "success\n"
     ]
    }
   ],
   "source": [
    "# Other libraries\n",
    "from sklearn.model_selection import train_test_split\n",
    "from sklearn.preprocessing import StandardScaler\n",
    "from sklearn.metrics import accuracy_score\n",
    "from sklearn.metrics import classification_report\n",
    "from sklearn import *\n",
    "print(\"success\")"
   ]
  },
  {
   "cell_type": "code",
   "execution_count": 5,
   "id": "681d25ff",
   "metadata": {},
   "outputs": [
    {
     "name": "stdout",
     "output_type": "stream",
     "text": [
      "success\n"
     ]
    }
   ],
   "source": [
    "from sklearn.neighbors import KNeighborsClassifier\n",
    "from sklearn.svm import SVC\n",
    "from sklearn.tree import DecisionTreeClassifier\n",
    "from sklearn.ensemble import RandomForestClassifier\n",
    "from sklearn.linear_model import LogisticRegression\n",
    "print(\"success\")"
   ]
  },
  {
   "cell_type": "code",
   "execution_count": 6,
   "id": "8ac97e49",
   "metadata": {},
   "outputs": [
    {
     "name": "stdout",
     "output_type": "stream",
     "text": [
      "<class 'pandas.core.frame.DataFrame'>\n",
      "RangeIndex: 1025 entries, 0 to 1024\n",
      "Data columns (total 14 columns):\n",
      " #   Column    Non-Null Count  Dtype  \n",
      "---  ------    --------------  -----  \n",
      " 0   age       1025 non-null   int64  \n",
      " 1   sex       1025 non-null   int64  \n",
      " 2   cp        1025 non-null   int64  \n",
      " 3   trestbps  1025 non-null   int64  \n",
      " 4   chol      1025 non-null   int64  \n",
      " 5   fbs       1025 non-null   int64  \n",
      " 6   restecg   1025 non-null   int64  \n",
      " 7   thalach   1025 non-null   int64  \n",
      " 8   exang     1025 non-null   int64  \n",
      " 9   oldpeak   1025 non-null   float64\n",
      " 10  slope     1025 non-null   int64  \n",
      " 11  ca        1025 non-null   int64  \n",
      " 12  thal      1025 non-null   int64  \n",
      " 13  target    1025 non-null   int64  \n",
      "dtypes: float64(1), int64(13)\n",
      "memory usage: 112.2 KB\n"
     ]
    },
    {
     "data": {
      "text/html": [
       "<div>\n",
       "<style scoped>\n",
       "    .dataframe tbody tr th:only-of-type {\n",
       "        vertical-align: middle;\n",
       "    }\n",
       "\n",
       "    .dataframe tbody tr th {\n",
       "        vertical-align: top;\n",
       "    }\n",
       "\n",
       "    .dataframe thead th {\n",
       "        text-align: right;\n",
       "    }\n",
       "</style>\n",
       "<table border=\"1\" class=\"dataframe\">\n",
       "  <thead>\n",
       "    <tr style=\"text-align: right;\">\n",
       "      <th></th>\n",
       "      <th>age</th>\n",
       "      <th>sex</th>\n",
       "      <th>cp</th>\n",
       "      <th>trestbps</th>\n",
       "      <th>chol</th>\n",
       "      <th>fbs</th>\n",
       "      <th>restecg</th>\n",
       "      <th>thalach</th>\n",
       "      <th>exang</th>\n",
       "      <th>oldpeak</th>\n",
       "      <th>slope</th>\n",
       "      <th>ca</th>\n",
       "      <th>thal</th>\n",
       "      <th>target</th>\n",
       "    </tr>\n",
       "  </thead>\n",
       "  <tbody>\n",
       "    <tr>\n",
       "      <th>count</th>\n",
       "      <td>1025.000000</td>\n",
       "      <td>1025.000000</td>\n",
       "      <td>1025.000000</td>\n",
       "      <td>1025.000000</td>\n",
       "      <td>1025.00000</td>\n",
       "      <td>1025.000000</td>\n",
       "      <td>1025.000000</td>\n",
       "      <td>1025.000000</td>\n",
       "      <td>1025.000000</td>\n",
       "      <td>1025.000000</td>\n",
       "      <td>1025.000000</td>\n",
       "      <td>1025.000000</td>\n",
       "      <td>1025.000000</td>\n",
       "      <td>1025.000000</td>\n",
       "    </tr>\n",
       "    <tr>\n",
       "      <th>mean</th>\n",
       "      <td>54.434146</td>\n",
       "      <td>0.695610</td>\n",
       "      <td>0.942439</td>\n",
       "      <td>131.611707</td>\n",
       "      <td>246.00000</td>\n",
       "      <td>0.149268</td>\n",
       "      <td>0.529756</td>\n",
       "      <td>149.114146</td>\n",
       "      <td>0.336585</td>\n",
       "      <td>1.071512</td>\n",
       "      <td>1.385366</td>\n",
       "      <td>0.754146</td>\n",
       "      <td>2.323902</td>\n",
       "      <td>0.513171</td>\n",
       "    </tr>\n",
       "    <tr>\n",
       "      <th>std</th>\n",
       "      <td>9.072290</td>\n",
       "      <td>0.460373</td>\n",
       "      <td>1.029641</td>\n",
       "      <td>17.516718</td>\n",
       "      <td>51.59251</td>\n",
       "      <td>0.356527</td>\n",
       "      <td>0.527878</td>\n",
       "      <td>23.005724</td>\n",
       "      <td>0.472772</td>\n",
       "      <td>1.175053</td>\n",
       "      <td>0.617755</td>\n",
       "      <td>1.030798</td>\n",
       "      <td>0.620660</td>\n",
       "      <td>0.500070</td>\n",
       "    </tr>\n",
       "    <tr>\n",
       "      <th>min</th>\n",
       "      <td>29.000000</td>\n",
       "      <td>0.000000</td>\n",
       "      <td>0.000000</td>\n",
       "      <td>94.000000</td>\n",
       "      <td>126.00000</td>\n",
       "      <td>0.000000</td>\n",
       "      <td>0.000000</td>\n",
       "      <td>71.000000</td>\n",
       "      <td>0.000000</td>\n",
       "      <td>0.000000</td>\n",
       "      <td>0.000000</td>\n",
       "      <td>0.000000</td>\n",
       "      <td>0.000000</td>\n",
       "      <td>0.000000</td>\n",
       "    </tr>\n",
       "    <tr>\n",
       "      <th>25%</th>\n",
       "      <td>48.000000</td>\n",
       "      <td>0.000000</td>\n",
       "      <td>0.000000</td>\n",
       "      <td>120.000000</td>\n",
       "      <td>211.00000</td>\n",
       "      <td>0.000000</td>\n",
       "      <td>0.000000</td>\n",
       "      <td>132.000000</td>\n",
       "      <td>0.000000</td>\n",
       "      <td>0.000000</td>\n",
       "      <td>1.000000</td>\n",
       "      <td>0.000000</td>\n",
       "      <td>2.000000</td>\n",
       "      <td>0.000000</td>\n",
       "    </tr>\n",
       "    <tr>\n",
       "      <th>50%</th>\n",
       "      <td>56.000000</td>\n",
       "      <td>1.000000</td>\n",
       "      <td>1.000000</td>\n",
       "      <td>130.000000</td>\n",
       "      <td>240.00000</td>\n",
       "      <td>0.000000</td>\n",
       "      <td>1.000000</td>\n",
       "      <td>152.000000</td>\n",
       "      <td>0.000000</td>\n",
       "      <td>0.800000</td>\n",
       "      <td>1.000000</td>\n",
       "      <td>0.000000</td>\n",
       "      <td>2.000000</td>\n",
       "      <td>1.000000</td>\n",
       "    </tr>\n",
       "    <tr>\n",
       "      <th>75%</th>\n",
       "      <td>61.000000</td>\n",
       "      <td>1.000000</td>\n",
       "      <td>2.000000</td>\n",
       "      <td>140.000000</td>\n",
       "      <td>275.00000</td>\n",
       "      <td>0.000000</td>\n",
       "      <td>1.000000</td>\n",
       "      <td>166.000000</td>\n",
       "      <td>1.000000</td>\n",
       "      <td>1.800000</td>\n",
       "      <td>2.000000</td>\n",
       "      <td>1.000000</td>\n",
       "      <td>3.000000</td>\n",
       "      <td>1.000000</td>\n",
       "    </tr>\n",
       "    <tr>\n",
       "      <th>max</th>\n",
       "      <td>77.000000</td>\n",
       "      <td>1.000000</td>\n",
       "      <td>3.000000</td>\n",
       "      <td>200.000000</td>\n",
       "      <td>564.00000</td>\n",
       "      <td>1.000000</td>\n",
       "      <td>2.000000</td>\n",
       "      <td>202.000000</td>\n",
       "      <td>1.000000</td>\n",
       "      <td>6.200000</td>\n",
       "      <td>2.000000</td>\n",
       "      <td>4.000000</td>\n",
       "      <td>3.000000</td>\n",
       "      <td>1.000000</td>\n",
       "    </tr>\n",
       "  </tbody>\n",
       "</table>\n",
       "</div>"
      ],
      "text/plain": [
       "               age          sex           cp     trestbps        chol  \\\n",
       "count  1025.000000  1025.000000  1025.000000  1025.000000  1025.00000   \n",
       "mean     54.434146     0.695610     0.942439   131.611707   246.00000   \n",
       "std       9.072290     0.460373     1.029641    17.516718    51.59251   \n",
       "min      29.000000     0.000000     0.000000    94.000000   126.00000   \n",
       "25%      48.000000     0.000000     0.000000   120.000000   211.00000   \n",
       "50%      56.000000     1.000000     1.000000   130.000000   240.00000   \n",
       "75%      61.000000     1.000000     2.000000   140.000000   275.00000   \n",
       "max      77.000000     1.000000     3.000000   200.000000   564.00000   \n",
       "\n",
       "               fbs      restecg      thalach        exang      oldpeak  \\\n",
       "count  1025.000000  1025.000000  1025.000000  1025.000000  1025.000000   \n",
       "mean      0.149268     0.529756   149.114146     0.336585     1.071512   \n",
       "std       0.356527     0.527878    23.005724     0.472772     1.175053   \n",
       "min       0.000000     0.000000    71.000000     0.000000     0.000000   \n",
       "25%       0.000000     0.000000   132.000000     0.000000     0.000000   \n",
       "50%       0.000000     1.000000   152.000000     0.000000     0.800000   \n",
       "75%       0.000000     1.000000   166.000000     1.000000     1.800000   \n",
       "max       1.000000     2.000000   202.000000     1.000000     6.200000   \n",
       "\n",
       "             slope           ca         thal       target  \n",
       "count  1025.000000  1025.000000  1025.000000  1025.000000  \n",
       "mean      1.385366     0.754146     2.323902     0.513171  \n",
       "std       0.617755     1.030798     0.620660     0.500070  \n",
       "min       0.000000     0.000000     0.000000     0.000000  \n",
       "25%       1.000000     0.000000     2.000000     0.000000  \n",
       "50%       1.000000     0.000000     2.000000     1.000000  \n",
       "75%       2.000000     1.000000     3.000000     1.000000  \n",
       "max       2.000000     4.000000     3.000000     1.000000  "
      ]
     },
     "execution_count": 6,
     "metadata": {},
     "output_type": "execute_result"
    }
   ],
   "source": [
    "heartData=pd.read_csv(\"./dataset/heart_data_set.csv\");\n",
    "heartData.info()\n",
    "heartData.describe()"
   ]
  },
  {
   "cell_type": "code",
   "execution_count": 16,
   "id": "c119867c",
   "metadata": {},
   "outputs": [
    {
     "name": "stdout",
     "output_type": "stream",
     "text": [
      "Total percentage of missing data is 0.0%\n",
      "Duplicate rows:\n"
     ]
    }
   ],
   "source": [
    "#total missing percent of data\n",
    "missing_data= heartData.isnull().sum()\n",
    "total_percentage = (missing_data.sum()/heartData.shape[0]) * 100\n",
    "print(f'Total percentage of missing data is {round(total_percentage,2)}%')\n",
    "duplicate=heartData[heartData.duplicated()]\n",
    "print(\"Duplicate rows:\")\n",
    "duplicate\n",
    "#drop duplicate rows\n",
    "heartData=heartData.drop_duplicates()"
   ]
  },
  {
   "cell_type": "code",
   "execution_count": 17,
   "id": "bd25ce4d",
   "metadata": {},
   "outputs": [
    {
     "data": {
      "text/plain": [
       "<matplotlib.colorbar.Colorbar at 0x1eedf199880>"
      ]
     },
     "execution_count": 17,
     "metadata": {},
     "output_type": "execute_result"
    },
    {
     "data": {
      "image/png": "[encoded data removed]",
      "text/plain": [
       "<Figure size 720x720 with 2 Axes>"
      ]
     },
     "metadata": {
      "needs_background": "light"
     },
     "output_type": "display_data"
    }
   ],
   "source": [
    "rcParams['figure.figsize'] = 10,10\n",
    "plt.matshow(heartData.corr())\n",
    "plt.yticks(np.arange(heartData.shape[1]), heartData.columns)\n",
    "plt.xticks(np.arange(heartData.shape[1]), heartData.columns)\n",
    "plt.colorbar()"
   ]
  },
  {
   "cell_type": "code",
   "execution_count": 18,
   "id": "8a09a64c",
   "metadata": {},
   "outputs": [
    {
     "data": {
      "text/html": [
       "<style type=\"text/css\">\n",
       "#T_3352e_row0_col0, #T_3352e_row1_col1, #T_3352e_row2_col2, #T_3352e_row3_col3, #T_3352e_row4_col4, #T_3352e_row5_col5, #T_3352e_row6_col6, #T_3352e_row7_col7, #T_3352e_row8_col8, #T_3352e_row9_col9, #T_3352e_row10_col10, #T_3352e_row11_col11, #T_3352e_row12_col12, #T_3352e_row13_col13 {\n",
       "  background-color: #b40426;\n",
       "  color: #f1f1f1;\n",
       "}\n",
       "#T_3352e_row0_col1 {\n",
       "  background-color: #688aef;\n",
       "  color: #f1f1f1;\n",
       "}\n",
       "#T_3352e_row0_col2, #T_3352e_row2_col0, #T_3352e_row4_col3, #T_3352e_row11_col4 {\n",
       "  background-color: #88abfd;\n",
       "  color: #000000;\n",
       "}\n",
       "#T_3352e_row0_col3, #T_3352e_row11_col12 {\n",
       "  background-color: #b7cff9;\n",
       "  color: #000000;\n",
       "}\n",
       "#T_3352e_row0_col4 {\n",
       "  background-color: #abc8fd;\n",
       "  color: #000000;\n",
       "}\n",
       "#T_3352e_row0_col5, #T_3352e_row7_col1, #T_3352e_row7_col12, #T_3352e_row8_col3 {\n",
       "  background-color: #7699f6;\n",
       "  color: #f1f1f1;\n",
       "}\n",
       "#T_3352e_row0_col6 {\n",
       "  background-color: #445acc;\n",
       "  color: #f1f1f1;\n",
       "}\n",
       "#T_3352e_row0_col7, #T_3352e_row1_col4, #T_3352e_row4_col6, #T_3352e_row6_col5, #T_3352e_row7_col0, #T_3352e_row8_col2, #T_3352e_row8_col13, #T_3352e_row9_col10, #T_3352e_row10_col9, #T_3352e_row13_col1, #T_3352e_row13_col3, #T_3352e_row13_col8, #T_3352e_row13_col11, #T_3352e_row13_col12 {\n",
       "  background-color: #3b4cc0;\n",
       "  color: #f1f1f1;\n",
       "}\n",
       "#T_3352e_row0_col8, #T_3352e_row1_col11, #T_3352e_row5_col0, #T_3352e_row5_col9 {\n",
       "  background-color: #b6cefa;\n",
       "  color: #000000;\n",
       "}\n",
       "#T_3352e_row0_col9, #T_3352e_row11_col0, #T_3352e_row12_col9 {\n",
       "  background-color: #dcdddd;\n",
       "  color: #000000;\n",
       "}\n",
       "#T_3352e_row0_col10 {\n",
       "  background-color: #90b2fe;\n",
       "  color: #000000;\n",
       "}\n",
       "#T_3352e_row0_col11 {\n",
       "  background-color: #dedcdb;\n",
       "  color: #000000;\n",
       "}\n",
       "#T_3352e_row0_col12, #T_3352e_row3_col12 {\n",
       "  background-color: #9fbfff;\n",
       "  color: #000000;\n",
       "}\n",
       "#T_3352e_row0_col13, #T_3352e_row2_col11, #T_3352e_row7_col9 {\n",
       "  background-color: #6a8bef;\n",
       "  color: #f1f1f1;\n",
       "}\n",
       "#T_3352e_row1_col0, #T_3352e_row8_col4, #T_3352e_row12_col7 {\n",
       "  background-color: #81a4fb;\n",
       "  color: #f1f1f1;\n",
       "}\n",
       "#T_3352e_row1_col2, #T_3352e_row12_col4 {\n",
       "  background-color: #8badfd;\n",
       "  color: #000000;\n",
       "}\n",
       "#T_3352e_row1_col3, #T_3352e_row1_col6 {\n",
       "  background-color: #516ddb;\n",
       "  color: #f1f1f1;\n",
       "}\n",
       "#T_3352e_row1_col5, #T_3352e_row11_col7, #T_3352e_row12_col6 {\n",
       "  background-color: #5f7fe8;\n",
       "  color: #f1f1f1;\n",
       "}\n",
       "#T_3352e_row1_col7, #T_3352e_row3_col7, #T_3352e_row4_col13, #T_3352e_row6_col12, #T_3352e_row13_col6 {\n",
       "  background-color: #8caffe;\n",
       "  color: #000000;\n",
       "}\n",
       "#T_3352e_row1_col8, #T_3352e_row12_col11 {\n",
       "  background-color: #c1d4f4;\n",
       "  color: #000000;\n",
       "}\n",
       "#T_3352e_row1_col9 {\n",
       "  background-color: #c9d7f0;\n",
       "  color: #000000;\n",
       "}\n",
       "#T_3352e_row1_col10 {\n",
       "  background-color: #aec9fc;\n",
       "  color: #000000;\n",
       "}\n",
       "#T_3352e_row1_col12, #T_3352e_row9_col12 {\n",
       "  background-color: #c4d5f3;\n",
       "  color: #000000;\n",
       "}\n",
       "#T_3352e_row1_col13 {\n",
       "  background-color: #5b7ae5;\n",
       "  color: #f1f1f1;\n",
       "}\n",
       "#T_3352e_row2_col1, #T_3352e_row12_col3 {\n",
       "  background-color: #7597f6;\n",
       "  color: #f1f1f1;\n",
       "}\n",
       "#T_3352e_row2_col3 {\n",
       "  background-color: #7093f3;\n",
       "  color: #f1f1f1;\n",
       "}\n",
       "#T_3352e_row2_col4 {\n",
       "  background-color: #5a78e4;\n",
       "  color: #f1f1f1;\n",
       "}\n",
       "#T_3352e_row2_col5, #T_3352e_row2_col6, #T_3352e_row7_col6, #T_3352e_row10_col0, #T_3352e_row12_col2 {\n",
       "  background-color: #6f92f3;\n",
       "  color: #f1f1f1;\n",
       "}\n",
       "#T_3352e_row2_col7, #T_3352e_row7_col2 {\n",
       "  background-color: #dbdcde;\n",
       "  color: #000000;\n",
       "}\n",
       "#T_3352e_row2_col8, #T_3352e_row3_col6 {\n",
       "  background-color: #4358cb;\n",
       "  color: #f1f1f1;\n",
       "}\n",
       "#T_3352e_row2_col9 {\n",
       "  background-color: #94b6ff;\n",
       "  color: #000000;\n",
       "}\n",
       "#T_3352e_row2_col10 {\n",
       "  background-color: #ccd9ed;\n",
       "  color: #000000;\n",
       "}\n",
       "#T_3352e_row2_col12 {\n",
       "  background-color: #6485ec;\n",
       "  color: #f1f1f1;\n",
       "}\n",
       "#T_3352e_row2_col13 {\n",
       "  background-color: #f2cab5;\n",
       "  color: #000000;\n",
       "}\n",
       "#T_3352e_row3_col0 {\n",
       "  background-color: #d9dce1;\n",
       "  color: #000000;\n",
       "}\n",
       "#T_3352e_row3_col1, #T_3352e_row9_col2, #T_3352e_row10_col12 {\n",
       "  background-color: #7396f5;\n",
       "  color: #f1f1f1;\n",
       "}\n",
       "#T_3352e_row3_col2, #T_3352e_row6_col7 {\n",
       "  background-color: #a3c2fe;\n",
       "  color: #000000;\n",
       "}\n",
       "#T_3352e_row3_col4 {\n",
       "  background-color: #93b5fe;\n",
       "  color: #000000;\n",
       "}\n",
       "#T_3352e_row3_col5 {\n",
       "  background-color: #89acfd;\n",
       "  color: #000000;\n",
       "}\n",
       "#T_3352e_row3_col8, #T_3352e_row4_col8, #T_3352e_row5_col2, #T_3352e_row8_col0 {\n",
       "  background-color: #afcafc;\n",
       "  color: #000000;\n",
       "}\n",
       "#T_3352e_row3_col9 {\n",
       "  background-color: #dadce0;\n",
       "  color: #000000;\n",
       "}\n",
       "#T_3352e_row3_col10 {\n",
       "  background-color: #9abbff;\n",
       "  color: #000000;\n",
       "}\n",
       "#T_3352e_row3_col11 {\n",
       "  background-color: #b3cdfb;\n",
       "  color: #000000;\n",
       "}\n",
       "#T_3352e_row3_col13 {\n",
       "  background-color: #7b9ff9;\n",
       "  color: #f1f1f1;\n",
       "}\n",
       "#T_3352e_row4_col0, #T_3352e_row9_col0 {\n",
       "  background-color: #cad8ef;\n",
       "  color: #000000;\n",
       "}\n",
       "#T_3352e_row4_col1, #T_3352e_row7_col5, #T_3352e_row8_col6 {\n",
       "  background-color: #4f69d9;\n",
       "  color: #f1f1f1;\n",
       "}\n",
       "#T_3352e_row4_col2 {\n",
       "  background-color: #85a8fc;\n",
       "  color: #f1f1f1;\n",
       "}\n",
       "#T_3352e_row4_col5 {\n",
       "  background-color: #5572df;\n",
       "  color: #f1f1f1;\n",
       "}\n",
       "#T_3352e_row4_col7, #T_3352e_row5_col7 {\n",
       "  background-color: #97b8ff;\n",
       "  color: #000000;\n",
       "}\n",
       "#T_3352e_row4_col9, #T_3352e_row6_col13 {\n",
       "  background-color: #bfd3f6;\n",
       "  color: #000000;\n",
       "}\n",
       "#T_3352e_row4_col10, #T_3352e_row10_col2 {\n",
       "  background-color: #b5cdfa;\n",
       "  color: #000000;\n",
       "}\n",
       "#T_3352e_row4_col11 {\n",
       "  background-color: #b1cbfc;\n",
       "  color: #000000;\n",
       "}\n",
       "#T_3352e_row4_col12 {\n",
       "  background-color: #a7c5fe;\n",
       "  color: #000000;\n",
       "}\n",
       "#T_3352e_row5_col1, #T_3352e_row6_col8 {\n",
       "  background-color: #8fb1fe;\n",
       "  color: #000000;\n",
       "}\n",
       "#T_3352e_row5_col3, #T_3352e_row5_col13 {\n",
       "  background-color: #98b9ff;\n",
       "  color: #000000;\n",
       "}\n",
       "#T_3352e_row5_col4, #T_3352e_row6_col1 {\n",
       "  background-color: #7295f4;\n",
       "  color: #f1f1f1;\n",
       "}\n",
       "#T_3352e_row5_col6, #T_3352e_row11_col6 {\n",
       "  background-color: #4b64d5;\n",
       "  color: #f1f1f1;\n",
       "}\n",
       "#T_3352e_row5_col8 {\n",
       "  background-color: #a6c4fe;\n",
       "  color: #000000;\n",
       "}\n",
       "#T_3352e_row5_col10, #T_3352e_row6_col9, #T_3352e_row12_col0 {\n",
       "  background-color: #a9c6fd;\n",
       "  color: #000000;\n",
       "}\n",
       "#T_3352e_row5_col11, #T_3352e_row11_col8 {\n",
       "  background-color: #bed2f6;\n",
       "  color: #000000;\n",
       "}\n",
       "#T_3352e_row5_col12, #T_3352e_row6_col11 {\n",
       "  background-color: #86a9fc;\n",
       "  color: #f1f1f1;\n",
       "}\n",
       "#T_3352e_row6_col0, #T_3352e_row8_col10, #T_3352e_row9_col4 {\n",
       "  background-color: #7da0f9;\n",
       "  color: #f1f1f1;\n",
       "}\n",
       "#T_3352e_row6_col2, #T_3352e_row11_col1 {\n",
       "  background-color: #a2c1ff;\n",
       "  color: #000000;\n",
       "}\n",
       "#T_3352e_row6_col3 {\n",
       "  background-color: #4257c9;\n",
       "  color: #f1f1f1;\n",
       "}\n",
       "#T_3352e_row6_col4, #T_3352e_row7_col8 {\n",
       "  background-color: #465ecf;\n",
       "  color: #f1f1f1;\n",
       "}\n",
       "#T_3352e_row6_col10 {\n",
       "  background-color: #c7d7f0;\n",
       "  color: #000000;\n",
       "}\n",
       "#T_3352e_row7_col3 {\n",
       "  background-color: #5470de;\n",
       "  color: #f1f1f1;\n",
       "}\n",
       "#T_3352e_row7_col4 {\n",
       "  background-color: #6c8ff1;\n",
       "  color: #f1f1f1;\n",
       "}\n",
       "#T_3352e_row7_col10 {\n",
       "  background-color: #f3c8b2;\n",
       "  color: #000000;\n",
       "}\n",
       "#T_3352e_row7_col11, #T_3352e_row10_col8 {\n",
       "  background-color: #6282ea;\n",
       "  color: #f1f1f1;\n",
       "}\n",
       "#T_3352e_row7_col13 {\n",
       "  background-color: #f1ccb8;\n",
       "  color: #000000;\n",
       "}\n",
       "#T_3352e_row8_col1 {\n",
       "  background-color: #aac7fd;\n",
       "  color: #000000;\n",
       "}\n",
       "#T_3352e_row8_col5 {\n",
       "  background-color: #5977e3;\n",
       "  color: #f1f1f1;\n",
       "}\n",
       "#T_3352e_row8_col7 {\n",
       "  background-color: #3e51c5;\n",
       "  color: #f1f1f1;\n",
       "}\n",
       "#T_3352e_row8_col9 {\n",
       "  background-color: #e9d5cb;\n",
       "  color: #000000;\n",
       "}\n",
       "#T_3352e_row8_col11 {\n",
       "  background-color: #bad0f8;\n",
       "  color: #000000;\n",
       "}\n",
       "#T_3352e_row8_col12 {\n",
       "  background-color: #c3d5f4;\n",
       "  color: #000000;\n",
       "}\n",
       "#T_3352e_row9_col1, #T_3352e_row9_col3, #T_3352e_row12_col10 {\n",
       "  background-color: #9ebeff;\n",
       "  color: #000000;\n",
       "}\n",
       "#T_3352e_row9_col5, #T_3352e_row9_col6 {\n",
       "  background-color: #536edd;\n",
       "  color: #f1f1f1;\n",
       "}\n",
       "#T_3352e_row9_col7 {\n",
       "  background-color: #455cce;\n",
       "  color: #f1f1f1;\n",
       "}\n",
       "#T_3352e_row9_col8 {\n",
       "  background-color: #dddcdc;\n",
       "  color: #000000;\n",
       "}\n",
       "#T_3352e_row9_col11 {\n",
       "  background-color: #d2dbe8;\n",
       "  color: #000000;\n",
       "}\n",
       "#T_3352e_row9_col13 {\n",
       "  background-color: #3c4ec2;\n",
       "  color: #f1f1f1;\n",
       "}\n",
       "#T_3352e_row10_col1 {\n",
       "  background-color: #799cf8;\n",
       "  color: #f1f1f1;\n",
       "}\n",
       "#T_3352e_row10_col3, #T_3352e_row10_col5 {\n",
       "  background-color: #4055c8;\n",
       "  color: #f1f1f1;\n",
       "}\n",
       "#T_3352e_row10_col4 {\n",
       "  background-color: #6e90f2;\n",
       "  color: #f1f1f1;\n",
       "}\n",
       "#T_3352e_row10_col6, #T_3352e_row11_col5 {\n",
       "  background-color: #7ea1fa;\n",
       "  color: #f1f1f1;\n",
       "}\n",
       "#T_3352e_row10_col7 {\n",
       "  background-color: #ebd3c6;\n",
       "  color: #000000;\n",
       "}\n",
       "#T_3352e_row10_col11 {\n",
       "  background-color: #84a7fc;\n",
       "  color: #f1f1f1;\n",
       "}\n",
       "#T_3352e_row10_col13 {\n",
       "  background-color: #e8d6cc;\n",
       "  color: #000000;\n",
       "}\n",
       "#T_3352e_row11_col2 {\n",
       "  background-color: #6788ee;\n",
       "  color: #f1f1f1;\n",
       "}\n",
       "#T_3352e_row11_col3 {\n",
       "  background-color: #80a3fa;\n",
       "  color: #f1f1f1;\n",
       "}\n",
       "#T_3352e_row11_col9 {\n",
       "  background-color: #e1dad6;\n",
       "  color: #000000;\n",
       "}\n",
       "#T_3352e_row11_col10 {\n",
       "  background-color: #a1c0ff;\n",
       "  color: #000000;\n",
       "}\n",
       "#T_3352e_row11_col13 {\n",
       "  background-color: #3f53c6;\n",
       "  color: #f1f1f1;\n",
       "}\n",
       "#T_3352e_row12_col1 {\n",
       "  background-color: #bbd1f8;\n",
       "  color: #000000;\n",
       "}\n",
       "#T_3352e_row12_col5 {\n",
       "  background-color: #485fd1;\n",
       "  color: #f1f1f1;\n",
       "}\n",
       "#T_3352e_row12_col8 {\n",
       "  background-color: #cedaeb;\n",
       "  color: #000000;\n",
       "}\n",
       "#T_3352e_row12_col13 {\n",
       "  background-color: #4e68d8;\n",
       "  color: #f1f1f1;\n",
       "}\n",
       "#T_3352e_row13_col0 {\n",
       "  background-color: #6180e9;\n",
       "  color: #f1f1f1;\n",
       "}\n",
       "#T_3352e_row13_col2 {\n",
       "  background-color: #f1cdba;\n",
       "  color: #000000;\n",
       "}\n",
       "#T_3352e_row13_col4 {\n",
       "  background-color: #5875e1;\n",
       "  color: #f1f1f1;\n",
       "}\n",
       "#T_3352e_row13_col5 {\n",
       "  background-color: #4a63d3;\n",
       "  color: #f1f1f1;\n",
       "}\n",
       "#T_3352e_row13_col7, #T_3352e_row13_col10 {\n",
       "  background-color: #efcebd;\n",
       "  color: #000000;\n",
       "}\n",
       "#T_3352e_row13_col9 {\n",
       "  background-color: #5673e0;\n",
       "  color: #f1f1f1;\n",
       "}\n",
       "</style>\n",
       "<table id=\"T_3352e\">\n",
       "  <thead>\n",
       "    <tr>\n",
       "      <th class=\"blank level0\" >&nbsp;</th>\n",
       "      <th id=\"T_3352e_level0_col0\" class=\"col_heading level0 col0\" >age</th>\n",
       "      <th id=\"T_3352e_level0_col1\" class=\"col_heading level0 col1\" >sex</th>\n",
       "      <th id=\"T_3352e_level0_col2\" class=\"col_heading level0 col2\" >cp</th>\n",
       "      <th id=\"T_3352e_level0_col3\" class=\"col_heading level0 col3\" >trestbps</th>\n",
       "      <th id=\"T_3352e_level0_col4\" class=\"col_heading level0 col4\" >chol</th>\n",
       "      <th id=\"T_3352e_level0_col5\" class=\"col_heading level0 col5\" >fbs</th>\n",
       "      <th id=\"T_3352e_level0_col6\" class=\"col_heading level0 col6\" >restecg</th>\n",
       "      <th id=\"T_3352e_level0_col7\" class=\"col_heading level0 col7\" >thalach</th>\n",
       "      <th id=\"T_3352e_level0_col8\" class=\"col_heading level0 col8\" >exang</th>\n",
       "      <th id=\"T_3352e_level0_col9\" class=\"col_heading level0 col9\" >oldpeak</th>\n",
       "      <th id=\"T_3352e_level0_col10\" class=\"col_heading level0 col10\" >slope</th>\n",
       "      <th id=\"T_3352e_level0_col11\" class=\"col_heading level0 col11\" >ca</th>\n",
       "      <th id=\"T_3352e_level0_col12\" class=\"col_heading level0 col12\" >thal</th>\n",
       "      <th id=\"T_3352e_level0_col13\" class=\"col_heading level0 col13\" >target</th>\n",
       "    </tr>\n",
       "  </thead>\n",
       "  <tbody>\n",
       "    <tr>\n",
       "      <th id=\"T_3352e_level0_row0\" class=\"row_heading level0 row0\" >age</th>\n",
       "      <td id=\"T_3352e_row0_col0\" class=\"data row0 col0\" >1.000000</td>\n",
       "      <td id=\"T_3352e_row0_col1\" class=\"data row0 col1\" >-0.094962</td>\n",
       "      <td id=\"T_3352e_row0_col2\" class=\"data row0 col2\" >-0.063107</td>\n",
       "      <td id=\"T_3352e_row0_col3\" class=\"data row0 col3\" >0.283121</td>\n",
       "      <td id=\"T_3352e_row0_col4\" class=\"data row0 col4\" >0.207216</td>\n",
       "      <td id=\"T_3352e_row0_col5\" class=\"data row0 col5\" >0.119492</td>\n",
       "      <td id=\"T_3352e_row0_col6\" class=\"data row0 col6\" >-0.111590</td>\n",
       "      <td id=\"T_3352e_row0_col7\" class=\"data row0 col7\" >-0.395235</td>\n",
       "      <td id=\"T_3352e_row0_col8\" class=\"data row0 col8\" >0.093216</td>\n",
       "      <td id=\"T_3352e_row0_col9\" class=\"data row0 col9\" >0.206040</td>\n",
       "      <td id=\"T_3352e_row0_col10\" class=\"data row0 col10\" >-0.164124</td>\n",
       "      <td id=\"T_3352e_row0_col11\" class=\"data row0 col11\" >0.302261</td>\n",
       "      <td id=\"T_3352e_row0_col12\" class=\"data row0 col12\" >0.065317</td>\n",
       "      <td id=\"T_3352e_row0_col13\" class=\"data row0 col13\" >-0.221476</td>\n",
       "    </tr>\n",
       "    <tr>\n",
       "      <th id=\"T_3352e_level0_row1\" class=\"row_heading level0 row1\" >sex</th>\n",
       "      <td id=\"T_3352e_row1_col0\" class=\"data row1 col0\" >-0.094962</td>\n",
       "      <td id=\"T_3352e_row1_col1\" class=\"data row1 col1\" >1.000000</td>\n",
       "      <td id=\"T_3352e_row1_col2\" class=\"data row1 col2\" >-0.051740</td>\n",
       "      <td id=\"T_3352e_row1_col3\" class=\"data row1 col3\" >-0.057647</td>\n",
       "      <td id=\"T_3352e_row1_col4\" class=\"data row1 col4\" >-0.195571</td>\n",
       "      <td id=\"T_3352e_row1_col5\" class=\"data row1 col5\" >0.046022</td>\n",
       "      <td id=\"T_3352e_row1_col6\" class=\"data row1 col6\" >-0.060351</td>\n",
       "      <td id=\"T_3352e_row1_col7\" class=\"data row1 col7\" >-0.046439</td>\n",
       "      <td id=\"T_3352e_row1_col8\" class=\"data row1 col8\" >0.143460</td>\n",
       "      <td id=\"T_3352e_row1_col9\" class=\"data row1 col9\" >0.098322</td>\n",
       "      <td id=\"T_3352e_row1_col10\" class=\"data row1 col10\" >-0.032990</td>\n",
       "      <td id=\"T_3352e_row1_col11\" class=\"data row1 col11\" >0.113060</td>\n",
       "      <td id=\"T_3352e_row1_col12\" class=\"data row1 col12\" >0.211452</td>\n",
       "      <td id=\"T_3352e_row1_col13\" class=\"data row1 col13\" >-0.283609</td>\n",
       "    </tr>\n",
       "    <tr>\n",
       "      <th id=\"T_3352e_level0_row2\" class=\"row_heading level0 row2\" >cp</th>\n",
       "      <td id=\"T_3352e_row2_col0\" class=\"data row2 col0\" >-0.063107</td>\n",
       "      <td id=\"T_3352e_row2_col1\" class=\"data row2 col1\" >-0.051740</td>\n",
       "      <td id=\"T_3352e_row2_col2\" class=\"data row2 col2\" >1.000000</td>\n",
       "      <td id=\"T_3352e_row2_col3\" class=\"data row2 col3\" >0.046486</td>\n",
       "      <td id=\"T_3352e_row2_col4\" class=\"data row2 col4\" >-0.072682</td>\n",
       "      <td id=\"T_3352e_row2_col5\" class=\"data row2 col5\" >0.096018</td>\n",
       "      <td id=\"T_3352e_row2_col6\" class=\"data row2 col6\" >0.041561</td>\n",
       "      <td id=\"T_3352e_row2_col7\" class=\"data row2 col7\" >0.293367</td>\n",
       "      <td id=\"T_3352e_row2_col8\" class=\"data row2 col8\" >-0.392937</td>\n",
       "      <td id=\"T_3352e_row2_col9\" class=\"data row2 col9\" >-0.146692</td>\n",
       "      <td id=\"T_3352e_row2_col10\" class=\"data row2 col10\" >0.116854</td>\n",
       "      <td id=\"T_3352e_row2_col11\" class=\"data row2 col11\" >-0.195356</td>\n",
       "      <td id=\"T_3352e_row2_col12\" class=\"data row2 col12\" >-0.160370</td>\n",
       "      <td id=\"T_3352e_row2_col13\" class=\"data row2 col13\" >0.432080</td>\n",
       "    </tr>\n",
       "    <tr>\n",
       "      <th id=\"T_3352e_level0_row3\" class=\"row_heading level0 row3\" >trestbps</th>\n",
       "      <td id=\"T_3352e_row3_col0\" class=\"data row3 col0\" >0.283121</td>\n",
       "      <td id=\"T_3352e_row3_col1\" class=\"data row3 col1\" >-0.057647</td>\n",
       "      <td id=\"T_3352e_row3_col2\" class=\"data row3 col2\" >0.046486</td>\n",
       "      <td id=\"T_3352e_row3_col3\" class=\"data row3 col3\" >1.000000</td>\n",
       "      <td id=\"T_3352e_row3_col4\" class=\"data row3 col4\" >0.125256</td>\n",
       "      <td id=\"T_3352e_row3_col5\" class=\"data row3 col5\" >0.178125</td>\n",
       "      <td id=\"T_3352e_row3_col6\" class=\"data row3 col6\" >-0.115367</td>\n",
       "      <td id=\"T_3352e_row3_col7\" class=\"data row3 col7\" >-0.048023</td>\n",
       "      <td id=\"T_3352e_row3_col8\" class=\"data row3 col8\" >0.068526</td>\n",
       "      <td id=\"T_3352e_row3_col9\" class=\"data row3 col9\" >0.194600</td>\n",
       "      <td id=\"T_3352e_row3_col10\" class=\"data row3 col10\" >-0.122873</td>\n",
       "      <td id=\"T_3352e_row3_col11\" class=\"data row3 col11\" >0.099248</td>\n",
       "      <td id=\"T_3352e_row3_col12\" class=\"data row3 col12\" >0.062870</td>\n",
       "      <td id=\"T_3352e_row3_col13\" class=\"data row3 col13\" >-0.146269</td>\n",
       "    </tr>\n",
       "    <tr>\n",
       "      <th id=\"T_3352e_level0_row4\" class=\"row_heading level0 row4\" >chol</th>\n",
       "      <td id=\"T_3352e_row4_col0\" class=\"data row4 col0\" >0.207216</td>\n",
       "      <td id=\"T_3352e_row4_col1\" class=\"data row4 col1\" >-0.195571</td>\n",
       "      <td id=\"T_3352e_row4_col2\" class=\"data row4 col2\" >-0.072682</td>\n",
       "      <td id=\"T_3352e_row4_col3\" class=\"data row4 col3\" >0.125256</td>\n",
       "      <td id=\"T_3352e_row4_col4\" class=\"data row4 col4\" >1.000000</td>\n",
       "      <td id=\"T_3352e_row4_col5\" class=\"data row4 col5\" >0.011428</td>\n",
       "      <td id=\"T_3352e_row4_col6\" class=\"data row4 col6\" >-0.147602</td>\n",
       "      <td id=\"T_3352e_row4_col7\" class=\"data row4 col7\" >-0.005308</td>\n",
       "      <td id=\"T_3352e_row4_col8\" class=\"data row4 col8\" >0.064099</td>\n",
       "      <td id=\"T_3352e_row4_col9\" class=\"data row4 col9\" >0.050086</td>\n",
       "      <td id=\"T_3352e_row4_col10\" class=\"data row4 col10\" >0.000417</td>\n",
       "      <td id=\"T_3352e_row4_col11\" class=\"data row4 col11\" >0.086878</td>\n",
       "      <td id=\"T_3352e_row4_col12\" class=\"data row4 col12\" >0.096810</td>\n",
       "      <td id=\"T_3352e_row4_col13\" class=\"data row4 col13\" >-0.081437</td>\n",
       "    </tr>\n",
       "    <tr>\n",
       "      <th id=\"T_3352e_level0_row5\" class=\"row_heading level0 row5\" >fbs</th>\n",
       "      <td id=\"T_3352e_row5_col0\" class=\"data row5 col0\" >0.119492</td>\n",
       "      <td id=\"T_3352e_row5_col1\" class=\"data row5 col1\" >0.046022</td>\n",
       "      <td id=\"T_3352e_row5_col2\" class=\"data row5 col2\" >0.096018</td>\n",
       "      <td id=\"T_3352e_row5_col3\" class=\"data row5 col3\" >0.178125</td>\n",
       "      <td id=\"T_3352e_row5_col4\" class=\"data row5 col4\" >0.011428</td>\n",
       "      <td id=\"T_3352e_row5_col5\" class=\"data row5 col5\" >1.000000</td>\n",
       "      <td id=\"T_3352e_row5_col6\" class=\"data row5 col6\" >-0.083081</td>\n",
       "      <td id=\"T_3352e_row5_col7\" class=\"data row5 col7\" >-0.007169</td>\n",
       "      <td id=\"T_3352e_row5_col8\" class=\"data row5 col8\" >0.024729</td>\n",
       "      <td id=\"T_3352e_row5_col9\" class=\"data row5 col9\" >0.004514</td>\n",
       "      <td id=\"T_3352e_row5_col10\" class=\"data row5 col10\" >-0.058654</td>\n",
       "      <td id=\"T_3352e_row5_col11\" class=\"data row5 col11\" >0.144935</td>\n",
       "      <td id=\"T_3352e_row5_col12\" class=\"data row5 col12\" >-0.032752</td>\n",
       "      <td id=\"T_3352e_row5_col13\" class=\"data row5 col13\" >-0.026826</td>\n",
       "    </tr>\n",
       "    <tr>\n",
       "      <th id=\"T_3352e_level0_row6\" class=\"row_heading level0 row6\" >restecg</th>\n",
       "      <td id=\"T_3352e_row6_col0\" class=\"data row6 col0\" >-0.111590</td>\n",
       "      <td id=\"T_3352e_row6_col1\" class=\"data row6 col1\" >-0.060351</td>\n",
       "      <td id=\"T_3352e_row6_col2\" class=\"data row6 col2\" >0.041561</td>\n",
       "      <td id=\"T_3352e_row6_col3\" class=\"data row6 col3\" >-0.115367</td>\n",
       "      <td id=\"T_3352e_row6_col4\" class=\"data row6 col4\" >-0.147602</td>\n",
       "      <td id=\"T_3352e_row6_col5\" class=\"data row6 col5\" >-0.083081</td>\n",
       "      <td id=\"T_3352e_row6_col6\" class=\"data row6 col6\" >1.000000</td>\n",
       "      <td id=\"T_3352e_row6_col7\" class=\"data row6 col7\" >0.041210</td>\n",
       "      <td id=\"T_3352e_row6_col8\" class=\"data row6 col8\" >-0.068807</td>\n",
       "      <td id=\"T_3352e_row6_col9\" class=\"data row6 col9\" >-0.056251</td>\n",
       "      <td id=\"T_3352e_row6_col10\" class=\"data row6 col10\" >0.090402</td>\n",
       "      <td id=\"T_3352e_row6_col11\" class=\"data row6 col11\" >-0.083112</td>\n",
       "      <td id=\"T_3352e_row6_col12\" class=\"data row6 col12\" >-0.010473</td>\n",
       "      <td id=\"T_3352e_row6_col13\" class=\"data row6 col13\" >0.134874</td>\n",
       "    </tr>\n",
       "    <tr>\n",
       "      <th id=\"T_3352e_level0_row7\" class=\"row_heading level0 row7\" >thalach</th>\n",
       "      <td id=\"T_3352e_row7_col0\" class=\"data row7 col0\" >-0.395235</td>\n",
       "      <td id=\"T_3352e_row7_col1\" class=\"data row7 col1\" >-0.046439</td>\n",
       "      <td id=\"T_3352e_row7_col2\" class=\"data row7 col2\" >0.293367</td>\n",
       "      <td id=\"T_3352e_row7_col3\" class=\"data row7 col3\" >-0.048023</td>\n",
       "      <td id=\"T_3352e_row7_col4\" class=\"data row7 col4\" >-0.005308</td>\n",
       "      <td id=\"T_3352e_row7_col5\" class=\"data row7 col5\" >-0.007169</td>\n",
       "      <td id=\"T_3352e_row7_col6\" class=\"data row7 col6\" >0.041210</td>\n",
       "      <td id=\"T_3352e_row7_col7\" class=\"data row7 col7\" >1.000000</td>\n",
       "      <td id=\"T_3352e_row7_col8\" class=\"data row7 col8\" >-0.377411</td>\n",
       "      <td id=\"T_3352e_row7_col9\" class=\"data row7 col9\" >-0.342201</td>\n",
       "      <td id=\"T_3352e_row7_col10\" class=\"data row7 col10\" >0.384754</td>\n",
       "      <td id=\"T_3352e_row7_col11\" class=\"data row7 col11\" >-0.228311</td>\n",
       "      <td id=\"T_3352e_row7_col12\" class=\"data row7 col12\" >-0.094910</td>\n",
       "      <td id=\"T_3352e_row7_col13\" class=\"data row7 col13\" >0.419955</td>\n",
       "    </tr>\n",
       "    <tr>\n",
       "      <th id=\"T_3352e_level0_row8\" class=\"row_heading level0 row8\" >exang</th>\n",
       "      <td id=\"T_3352e_row8_col0\" class=\"data row8 col0\" >0.093216</td>\n",
       "      <td id=\"T_3352e_row8_col1\" class=\"data row8 col1\" >0.143460</td>\n",
       "      <td id=\"T_3352e_row8_col2\" class=\"data row8 col2\" >-0.392937</td>\n",
       "      <td id=\"T_3352e_row8_col3\" class=\"data row8 col3\" >0.068526</td>\n",
       "      <td id=\"T_3352e_row8_col4\" class=\"data row8 col4\" >0.064099</td>\n",
       "      <td id=\"T_3352e_row8_col5\" class=\"data row8 col5\" >0.024729</td>\n",
       "      <td id=\"T_3352e_row8_col6\" class=\"data row8 col6\" >-0.068807</td>\n",
       "      <td id=\"T_3352e_row8_col7\" class=\"data row8 col7\" >-0.377411</td>\n",
       "      <td id=\"T_3352e_row8_col8\" class=\"data row8 col8\" >1.000000</td>\n",
       "      <td id=\"T_3352e_row8_col9\" class=\"data row8 col9\" >0.286766</td>\n",
       "      <td id=\"T_3352e_row8_col10\" class=\"data row8 col10\" >-0.256106</td>\n",
       "      <td id=\"T_3352e_row8_col11\" class=\"data row8 col11\" >0.125377</td>\n",
       "      <td id=\"T_3352e_row8_col12\" class=\"data row8 col12\" >0.205826</td>\n",
       "      <td id=\"T_3352e_row8_col13\" class=\"data row8 col13\" >-0.435601</td>\n",
       "    </tr>\n",
       "    <tr>\n",
       "      <th id=\"T_3352e_level0_row9\" class=\"row_heading level0 row9\" >oldpeak</th>\n",
       "      <td id=\"T_3352e_row9_col0\" class=\"data row9 col0\" >0.206040</td>\n",
       "      <td id=\"T_3352e_row9_col1\" class=\"data row9 col1\" >0.098322</td>\n",
       "      <td id=\"T_3352e_row9_col2\" class=\"data row9 col2\" >-0.146692</td>\n",
       "      <td id=\"T_3352e_row9_col3\" class=\"data row9 col3\" >0.194600</td>\n",
       "      <td id=\"T_3352e_row9_col4\" class=\"data row9 col4\" >0.050086</td>\n",
       "      <td id=\"T_3352e_row9_col5\" class=\"data row9 col5\" >0.004514</td>\n",
       "      <td id=\"T_3352e_row9_col6\" class=\"data row9 col6\" >-0.056251</td>\n",
       "      <td id=\"T_3352e_row9_col7\" class=\"data row9 col7\" >-0.342201</td>\n",
       "      <td id=\"T_3352e_row9_col8\" class=\"data row9 col8\" >0.286766</td>\n",
       "      <td id=\"T_3352e_row9_col9\" class=\"data row9 col9\" >1.000000</td>\n",
       "      <td id=\"T_3352e_row9_col10\" class=\"data row9 col10\" >-0.576314</td>\n",
       "      <td id=\"T_3352e_row9_col11\" class=\"data row9 col11\" >0.236560</td>\n",
       "      <td id=\"T_3352e_row9_col12\" class=\"data row9 col12\" >0.209090</td>\n",
       "      <td id=\"T_3352e_row9_col13\" class=\"data row9 col13\" >-0.429146</td>\n",
       "    </tr>\n",
       "    <tr>\n",
       "      <th id=\"T_3352e_level0_row10\" class=\"row_heading level0 row10\" >slope</th>\n",
       "      <td id=\"T_3352e_row10_col0\" class=\"data row10 col0\" >-0.164124</td>\n",
       "      <td id=\"T_3352e_row10_col1\" class=\"data row10 col1\" >-0.032990</td>\n",
       "      <td id=\"T_3352e_row10_col2\" class=\"data row10 col2\" >0.116854</td>\n",
       "      <td id=\"T_3352e_row10_col3\" class=\"data row10 col3\" >-0.122873</td>\n",
       "      <td id=\"T_3352e_row10_col4\" class=\"data row10 col4\" >0.000417</td>\n",
       "      <td id=\"T_3352e_row10_col5\" class=\"data row10 col5\" >-0.058654</td>\n",
       "      <td id=\"T_3352e_row10_col6\" class=\"data row10 col6\" >0.090402</td>\n",
       "      <td id=\"T_3352e_row10_col7\" class=\"data row10 col7\" >0.384754</td>\n",
       "      <td id=\"T_3352e_row10_col8\" class=\"data row10 col8\" >-0.256106</td>\n",
       "      <td id=\"T_3352e_row10_col9\" class=\"data row10 col9\" >-0.576314</td>\n",
       "      <td id=\"T_3352e_row10_col10\" class=\"data row10 col10\" >1.000000</td>\n",
       "      <td id=\"T_3352e_row10_col11\" class=\"data row10 col11\" >-0.092236</td>\n",
       "      <td id=\"T_3352e_row10_col12\" class=\"data row10 col12\" >-0.103314</td>\n",
       "      <td id=\"T_3352e_row10_col13\" class=\"data row10 col13\" >0.343940</td>\n",
       "    </tr>\n",
       "    <tr>\n",
       "      <th id=\"T_3352e_level0_row11\" class=\"row_heading level0 row11\" >ca</th>\n",
       "      <td id=\"T_3352e_row11_col0\" class=\"data row11 col0\" >0.302261</td>\n",
       "      <td id=\"T_3352e_row11_col1\" class=\"data row11 col1\" >0.113060</td>\n",
       "      <td id=\"T_3352e_row11_col2\" class=\"data row11 col2\" >-0.195356</td>\n",
       "      <td id=\"T_3352e_row11_col3\" class=\"data row11 col3\" >0.099248</td>\n",
       "      <td id=\"T_3352e_row11_col4\" class=\"data row11 col4\" >0.086878</td>\n",
       "      <td id=\"T_3352e_row11_col5\" class=\"data row11 col5\" >0.144935</td>\n",
       "      <td id=\"T_3352e_row11_col6\" class=\"data row11 col6\" >-0.083112</td>\n",
       "      <td id=\"T_3352e_row11_col7\" class=\"data row11 col7\" >-0.228311</td>\n",
       "      <td id=\"T_3352e_row11_col8\" class=\"data row11 col8\" >0.125377</td>\n",
       "      <td id=\"T_3352e_row11_col9\" class=\"data row11 col9\" >0.236560</td>\n",
       "      <td id=\"T_3352e_row11_col10\" class=\"data row11 col10\" >-0.092236</td>\n",
       "      <td id=\"T_3352e_row11_col11\" class=\"data row11 col11\" >1.000000</td>\n",
       "      <td id=\"T_3352e_row11_col12\" class=\"data row11 col12\" >0.160085</td>\n",
       "      <td id=\"T_3352e_row11_col13\" class=\"data row11 col13\" >-0.408992</td>\n",
       "    </tr>\n",
       "    <tr>\n",
       "      <th id=\"T_3352e_level0_row12\" class=\"row_heading level0 row12\" >thal</th>\n",
       "      <td id=\"T_3352e_row12_col0\" class=\"data row12 col0\" >0.065317</td>\n",
       "      <td id=\"T_3352e_row12_col1\" class=\"data row12 col1\" >0.211452</td>\n",
       "      <td id=\"T_3352e_row12_col2\" class=\"data row12 col2\" >-0.160370</td>\n",
       "      <td id=\"T_3352e_row12_col3\" class=\"data row12 col3\" >0.062870</td>\n",
       "      <td id=\"T_3352e_row12_col4\" class=\"data row12 col4\" >0.096810</td>\n",
       "      <td id=\"T_3352e_row12_col5\" class=\"data row12 col5\" >-0.032752</td>\n",
       "      <td id=\"T_3352e_row12_col6\" class=\"data row12 col6\" >-0.010473</td>\n",
       "      <td id=\"T_3352e_row12_col7\" class=\"data row12 col7\" >-0.094910</td>\n",
       "      <td id=\"T_3352e_row12_col8\" class=\"data row12 col8\" >0.205826</td>\n",
       "      <td id=\"T_3352e_row12_col9\" class=\"data row12 col9\" >0.209090</td>\n",
       "      <td id=\"T_3352e_row12_col10\" class=\"data row12 col10\" >-0.103314</td>\n",
       "      <td id=\"T_3352e_row12_col11\" class=\"data row12 col11\" >0.160085</td>\n",
       "      <td id=\"T_3352e_row12_col12\" class=\"data row12 col12\" >1.000000</td>\n",
       "      <td id=\"T_3352e_row12_col13\" class=\"data row12 col13\" >-0.343101</td>\n",
       "    </tr>\n",
       "    <tr>\n",
       "      <th id=\"T_3352e_level0_row13\" class=\"row_heading level0 row13\" >target</th>\n",
       "      <td id=\"T_3352e_row13_col0\" class=\"data row13 col0\" >-0.221476</td>\n",
       "      <td id=\"T_3352e_row13_col1\" class=\"data row13 col1\" >-0.283609</td>\n",
       "      <td id=\"T_3352e_row13_col2\" class=\"data row13 col2\" >0.432080</td>\n",
       "      <td id=\"T_3352e_row13_col3\" class=\"data row13 col3\" >-0.146269</td>\n",
       "      <td id=\"T_3352e_row13_col4\" class=\"data row13 col4\" >-0.081437</td>\n",
       "      <td id=\"T_3352e_row13_col5\" class=\"data row13 col5\" >-0.026826</td>\n",
       "      <td id=\"T_3352e_row13_col6\" class=\"data row13 col6\" >0.134874</td>\n",
       "      <td id=\"T_3352e_row13_col7\" class=\"data row13 col7\" >0.419955</td>\n",
       "      <td id=\"T_3352e_row13_col8\" class=\"data row13 col8\" >-0.435601</td>\n",
       "      <td id=\"T_3352e_row13_col9\" class=\"data row13 col9\" >-0.429146</td>\n",
       "      <td id=\"T_3352e_row13_col10\" class=\"data row13 col10\" >0.343940</td>\n",
       "      <td id=\"T_3352e_row13_col11\" class=\"data row13 col11\" >-0.408992</td>\n",
       "      <td id=\"T_3352e_row13_col12\" class=\"data row13 col12\" >-0.343101</td>\n",
       "      <td id=\"T_3352e_row13_col13\" class=\"data row13 col13\" >1.000000</td>\n",
       "    </tr>\n",
       "  </tbody>\n",
       "</table>\n"
      ],
      "text/plain": [
       "<pandas.io.formats.style.Styler at 0x1eedbd643a0>"
      ]
     },
     "execution_count": 18,
     "metadata": {},
     "output_type": "execute_result"
    }
   ],
   "source": [
    "corr = heartData.corr()\n",
    "\n",
    "corr.style.background_gradient(cmap='coolwarm')"
   ]
  },
  {
   "cell_type": "code",
   "execution_count": 19,
   "id": "59829453",
   "metadata": {},
   "outputs": [
    {
     "data": {
      "text/plain": [
       "Text(0.5, 1.0, 'Count of each Target Class')"
      ]
     },
     "execution_count": 19,
     "metadata": {},
     "output_type": "execute_result"
    },
    {
     "data": {
      "image/png": "[encoded data removed]",
      "text/plain": [
       "<Figure size 576x432 with 1 Axes>"
      ]
     },
     "metadata": {
      "needs_background": "light"
     },
     "output_type": "display_data"
    }
   ],
   "source": [
    "rcParams['figure.figsize'] = 8,6\n",
    "plt.bar(heartData['target'].unique(), heartData['target'].value_counts(), color = ['black', 'silver'])\n",
    "plt.xticks([0, 1])\n",
    "plt.xlabel('Target Classes')\n",
    "plt.ylabel('Count')\n",
    "plt.title('Count of each Target Class')"
   ]
  },
  {
   "cell_type": "code",
   "execution_count": 60,
   "id": "420ccff9",
   "metadata": {},
   "outputs": [
    {
     "name": "stdout",
     "output_type": "stream",
     "text": [
      "211 91 211 91\n"
     ]
    }
   ],
   "source": [
    "\n",
    "X = heartData.drop(['target'], axis = 1)\n",
    "y = heartData['target']\n",
    "X_train, X_test, y_train, y_test = train_test_split(X, y, test_size = 0.30, random_state = 0)\n",
    "print(X_train.shape[0],X_test.shape[0], y_train.shape[0], y_test.shape[0])"
   ]
  },
  {
   "cell_type": "code",
   "execution_count": 150,
   "id": "cf6abb8b",
   "metadata": {},
   "outputs": [
    {
     "name": "stdout",
     "output_type": "stream",
     "text": [
      "              precision    recall  f1-score   support\n",
      "\n",
      "           0       0.62      0.49      0.55        41\n",
      "           1       0.64      0.76      0.70        50\n",
      "\n",
      "    accuracy                           0.64        91\n",
      "   macro avg       0.63      0.62      0.62        91\n",
      "weighted avg       0.64      0.64      0.63        91\n",
      "\n"
     ]
    }
   ],
   "source": [
    "#dated::10/0/2022\n",
    "knn_scores = []\n",
    "for k in range(2,21):\n",
    "    knn_classifier = KNeighborsClassifier(n_neighbors = k)\n",
    "    knn_classifier.fit(X_train.values, y_train.values)\n",
    "    knn_score=round(knn_classifier.score(X_test.values, y_test.values),2)\n",
    "    knn_scores.append(knn_score)\n",
    "\n",
    "\n",
    "knn_classifier = KNeighborsClassifier(n_neighbors = 5)\n",
    "knn_classifier.fit(X_train, y_train)\n",
    "knn_score=knn_classifier.predict(X_test)\n",
    "print(classification_report(y_test,knn_score))\n"
   ]
  },
  {
   "cell_type": "code",
   "execution_count": 120,
   "id": "233bb6e9",
   "metadata": {},
   "outputs": [
    {
     "data": {
      "text/plain": [
       "Text(0.5, 1.0, 'KNN Scores for different K neighbouras')"
      ]
     },
     "execution_count": 120,
     "metadata": {},
     "output_type": "execute_result"
    },
    {
     "data": {
      "image/png": "[encoded data removed]",
      "text/plain": [
       "<Figure size 576x432 with 1 Axes>"
      ]
     },
     "metadata": {
      "needs_background": "light"
     },
     "output_type": "display_data"
    }
   ],
   "source": [
    "plt.plot([k for k in range(2, 21)], knn_scores, color = 'red')\n",
    "for i in range(2,21):\n",
    "    plt.text(i, knn_scores[i-2], (i, knn_scores[i-2]))\n",
    "plt.xticks([i for i in range(2, 21)])\n",
    "plt.xlabel('Number of Neighbors (K)')\n",
    "plt.ylabel('Scores')\n",
    "plt.title('KNN Scores for different K neighbouras')"
   ]
  },
  {
   "cell_type": "code",
   "execution_count": 135,
   "id": "76708227",
   "metadata": {},
   "outputs": [
    {
     "name": "stdout",
     "output_type": "stream",
     "text": [
      "0.7912087912087912\n"
     ]
    }
   ],
   "source": [
    "# SVM NOW dated::20/04/2022\n",
    "\n",
    "from sklearn.metrics import accuracy_score\n",
    "\n",
    "svc_scores = []\n",
    "kernels = ['linear', 'poly', 'rbf', 'sigmoid']\n",
    "for i in range(len(kernels)):\n",
    "    svc_classifier = SVC(kernel = kernels[i])\n",
    "    svc_classifier.fit(X_train.values, y_train.values)\n",
    "    svc_scores.append(round(svc_classifier.score(X_test.values, y_test.values),2))\n",
    "\n",
    "svc_classifier = SVC(kernel = kernels[0])\n",
    "svc_classifier.fit(X_train.values, y_train.values)\n",
    "svc_prediction_result=svc_classifier.predict(X_test.values)\n",
    "#print(svc_prediction_result)\n",
    "print(accuracy_score(y_test.values,svc_prediction_result))"
   ]
  },
  {
   "cell_type": "code",
   "execution_count": 136,
   "id": "e052deb6",
   "metadata": {},
   "outputs": [
    {
     "data": {
      "text/plain": [
       "Text(0.5, 1.0, 'SVM scores Activation function wise...')"
      ]
     },
     "execution_count": 136,
     "metadata": {},
     "output_type": "execute_result"
    },
    {
     "data": {
      "image/png": "[encoded data removed]",
      "text/plain": [
       "<Figure size 576x432 with 1 Axes>"
      ]
     },
     "metadata": {
      "needs_background": "light"
     },
     "output_type": "display_data"
    }
   ],
   "source": [
    "\n",
    "colors = rainbow(np.linspace(0, 1, len(kernels)))\n",
    "plt.bar(kernels, svc_scores, color = colors)\n",
    "for i in range(len(kernels)):\n",
    "    plt.text(i, svc_scores[i], svc_scores[i])\n",
    "plt.xlabel('Kernels')\n",
    "plt.ylabel('Scores')\n",
    "plt.title('SVM scores Activation function wise...')"
   ]
  },
  {
   "cell_type": "code",
   "execution_count": null,
   "id": "2dc7ddf7",
   "metadata": {},
   "outputs": [],
   "source": []
  },
  {
   "cell_type": "code",
   "execution_count": 137,
   "id": "024ab0eb",
   "metadata": {},
   "outputs": [
    {
     "name": "stdout",
     "output_type": "stream",
     "text": [
      "[0.48, 0.6, 0.63, 0.64, 0.69, 0.65, 0.68, 0.67, 0.67, 0.7, 0.68, 0.68, 0.69, 0.7, 0.67, 0.67, 0.64, 0.66, 0.63]\n",
      "0.7\n"
     ]
    }
   ],
   "source": [
    "print(knn_scores)\n",
    "print(max(knn_scores))"
   ]
  },
  {
   "cell_type": "code",
   "execution_count": 138,
   "id": "82f0a1af",
   "metadata": {},
   "outputs": [
    {
     "name": "stdout",
     "output_type": "stream",
     "text": [
      "Prediction: [1]\n"
     ]
    }
   ],
   "source": [
    "knn_classifier = KNeighborsClassifier(n_neighbors = 11)\n",
    "knn_classifier.fit(X_train.values, y_train.values)\n",
    "check_data_by_sudhansu = np.array([[52,1,0,125,212,0,1,168,0,1,2,2,3]])\n",
    "#check_data_by_sudhansu = np.array([[71,0,0,112,149,0,1,100,0,1.6,1,0,2]]) o/p=1\n",
    "prediction_result = knn_classifier.predict(check_data_by_sudhansu)\n",
    "print(\"Prediction: {}\".format(prediction_result))"
   ]
  },
  {
   "cell_type": "code",
   "execution_count": 139,
   "id": "23456f3d",
   "metadata": {},
   "outputs": [],
   "source": [
    "# print(classifiction_report(y_test)\n"
   ]
  },
  {
   "cell_type": "code",
   "execution_count": 140,
   "id": "a618a857",
   "metadata": {},
   "outputs": [
    {
     "name": "stdout",
     "output_type": "stream",
     "text": [
      "Done\n"
     ]
    }
   ],
   "source": [
    "dt_scores = []\n",
    "for i in range(1, len(X.columns) + 1):\n",
    "    dt_classifier = DecisionTreeClassifier(max_features = i, random_state = 0)\n",
    "    dt_classifier.fit(X_train.values, y_train.values)\n",
    "    dt_scores.append(round(dt_classifier.score(X_test.values, y_test.values),2))\n",
    "print(\"Done\")"
   ]
  },
  {
   "cell_type": "code",
   "execution_count": 141,
   "id": "33a4cbac",
   "metadata": {},
   "outputs": [
    {
     "name": "stdout",
     "output_type": "stream",
     "text": [
      "[0.66, 0.7, 0.74, 0.71, 0.71, 0.68, 0.7, 0.73, 0.7, 0.71, 0.74, 0.74, 0.74]\n"
     ]
    }
   ],
   "source": [
    "print(dt_scores)"
   ]
  },
  {
   "cell_type": "code",
   "execution_count": 142,
   "id": "61153632",
   "metadata": {},
   "outputs": [
    {
     "data": {
      "text/plain": [
       "Text(0.5, 1.0, 'Decision Tree Classifier scores for different number of maximum features')"
      ]
     },
     "execution_count": 142,
     "metadata": {},
     "output_type": "execute_result"
    },
    {
     "data": {
      "image/png": "[encoded data removed]",
      "text/plain": [
       "<Figure size 576x432 with 1 Axes>"
      ]
     },
     "metadata": {
      "needs_background": "light"
     },
     "output_type": "display_data"
    }
   ],
   "source": [
    "plt.plot([i for i in range(1, len(X.columns) + 1)], dt_scores, color = 'green')\n",
    "for i in range(1, len(X.columns) + 1):\n",
    "    plt.text(i, dt_scores[i-1], (i, dt_scores[i-1]))\n",
    "plt.xticks([i for i in range(1, len(X.columns) + 1)])\n",
    "plt.xlabel('Max features')\n",
    "plt.ylabel('Scores')\n",
    "plt.title('Decision Tree Classifier scores for different number of maximum features')"
   ]
  },
  {
   "cell_type": "code",
   "execution_count": 143,
   "id": "f5f85f57",
   "metadata": {},
   "outputs": [],
   "source": [
    "\n",
    "rf_scores = []\n",
    "estimators = [10, 20,100, 200, 500]\n",
    "for i in estimators:\n",
    "    rf_classifier = RandomForestClassifier(n_estimators = i, random_state = 0)\n",
    "    rf_classifier.fit(X_train.values, y_train.values)\n",
    "    rf_scores.append(round(rf_classifier.score(X_test.values, y_test.values),2))"
   ]
  },
  {
   "cell_type": "code",
   "execution_count": 144,
   "id": "3832ea57",
   "metadata": {},
   "outputs": [
    {
     "data": {
      "text/plain": [
       "Text(0.5, 1.0, 'Random Forest Classifier scores for different number of estimators')"
      ]
     },
     "execution_count": 144,
     "metadata": {},
     "output_type": "execute_result"
    },
    {
     "data": {
      "image/png": "[encoded data removed]",
      "text/plain": [
       "<Figure size 576x432 with 1 Axes>"
      ]
     },
     "metadata": {
      "needs_background": "light"
     },
     "output_type": "display_data"
    }
   ],
   "source": [
    "colors = rainbow(np.linspace(0, 1, len(estimators)))\n",
    "plt.bar([i for i in range(len(estimators))], rf_scores, color = colors, width = 0.8)\n",
    "for i in range(len(estimators)):\n",
    "    plt.text(i, rf_scores[i], rf_scores[i])\n",
    "plt.xticks(ticks = [i for i in range(len(estimators))], labels = [str(estimator) for estimator in estimators])\n",
    "plt.xlabel('Number of estimators')\n",
    "plt.ylabel('Scores')\n",
    "plt.title('Random Forest Classifier scores for different number of estimators')"
   ]
  },
  {
   "cell_type": "code",
   "execution_count": 145,
   "id": "eaf7a055",
   "metadata": {},
   "outputs": [
    {
     "name": "stdout",
     "output_type": "stream",
     "text": [
      "0.7582417582417582\n"
     ]
    }
   ],
   "source": [
    "rf_model = RandomForestClassifier(n_estimators = 10, random_state = 0)\n",
    "rf_model.fit(X_train.values, y_train.values)\n",
    "rf_model_result=rf_classifier.predict(X_test.values)\n",
    "print(accuracy_score(y_test,rf_model_result))"
   ]
  },
  {
   "cell_type": "code",
   "execution_count": 146,
   "id": "a68d55a4",
   "metadata": {},
   "outputs": [
    {
     "name": "stdout",
     "output_type": "stream",
     "text": [
      "0.8131868131868132\n",
      "              precision    recall  f1-score   support\n",
      "\n",
      "           0       0.85      0.71      0.77        41\n",
      "           1       0.79      0.90      0.84        50\n",
      "\n",
      "    accuracy                           0.81        91\n",
      "   macro avg       0.82      0.80      0.81        91\n",
      "weighted avg       0.82      0.81      0.81        91\n",
      "\n"
     ]
    }
   ],
   "source": [
    "logistic_model = LogisticRegression()\n",
    "logistic_model.fit(X_train.values, y_train.values)\n",
    "logistic_model_prediction=logistic_model.predict(X_test.values)\n",
    "print(accuracy_score(y_test.values,logistic_model_prediction))\n",
    "print(classification_report(y_test.values,logistic_model_prediction))"
   ]
  },
  {
   "cell_type": "code",
   "execution_count": 147,
   "id": "676ab4a9",
   "metadata": {},
   "outputs": [
    {
     "data": {
      "text/plain": [
       "DecisionTreeClassifier(max_features=13, random_state=0)"
      ]
     },
     "execution_count": 147,
     "metadata": {},
     "output_type": "execute_result"
    }
   ],
   "source": [
    "dt_classifier = DecisionTreeClassifier(max_features = 13, random_state = 0)\n",
    "dt_classifier.fit(X_train.values, y_train.values)"
   ]
  },
  {
   "cell_type": "code",
   "execution_count": 148,
   "id": "51cf241f",
   "metadata": {},
   "outputs": [
    {
     "name": "stdout",
     "output_type": "stream",
     "text": [
      "Done\n"
     ]
    }
   ],
   "source": [
    "import pickle\n",
    "all_models=[rf_model,logistic_model,dt_classifier,svc_classifier,knn_classifier]\n",
    "#pickle.dump(logistic_model,open(\"models.pkl\",\"wb\"))\n",
    "#pickle.dump(rf_classifier,open(\"models.pkl\",\"wb\"))\n",
    "with open(\"models.pkl\", 'wb') as files:\n",
    "    pickle.dump(all_models, files)\n",
    "print(\"Done\")"
   ]
  },
  {
   "cell_type": "code",
   "execution_count": 149,
   "id": "c385c594",
   "metadata": {},
   "outputs": [
    {
     "name": "stdout",
     "output_type": "stream",
     "text": [
      "[RandomForestClassifier(n_estimators=10, random_state=0), LogisticRegression(), DecisionTreeClassifier(max_features=13, random_state=0), SVC(kernel='linear'), KNeighborsClassifier(n_neighbors=11)]\n",
      "Done\n"
     ]
    }
   ],
   "source": [
    "open_file = open(\"models.pkl\", \"rb\")\n",
    "loaded_list = pickle.load(open_file)\n",
    "print(loaded_list)\n",
    "open_file.close()\n",
    "print(\"Done\")"
   ]
  },
  {
   "cell_type": "code",
   "execution_count": null,
   "id": "2260dfe1",
   "metadata": {},
   "outputs": [],
   "source": []
  },
  {
   "cell_type": "code",
   "execution_count": null,
   "id": "5774d84f",
   "metadata": {},
   "outputs": [],
   "source": []
  },
  {
   "cell_type": "code",
   "execution_count": null,
   "id": "4b67c03b",
   "metadata": {},
   "outputs": [],
   "source": []
  },
  {
   "cell_type": "code",
   "execution_count": null,
   "id": "95ecbfde",
   "metadata": {},
   "outputs": [],
   "source": []
  }
 ],
 "metadata": {
  "kernelspec": {
   "display_name": "Python 3 (ipykernel)",
   "language": "python",
   "name": "python3"
  },
  "language_info": {
   "codemirror_mode": {
    "name": "ipython",
    "version": 3
   },
   "file_extension": ".py",
   "mimetype": "text/x-python",
   "name": "python",
   "nbconvert_exporter": "python",
   "pygments_lexer": "ipython3",
   "version": "3.9.13"
  }
 },
 "nbformat": 4,
 "nbformat_minor": 5
}
